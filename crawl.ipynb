{
 "cells": [
  {
   "cell_type": "code",
   "execution_count": null,
   "metadata": {},
   "outputs": [],
   "source": [
    "import csv\n",
    "from selenium import webdriver\n",
    "from selenium.webdriver.chrome.options import Options\n",
    "import time\n",
    "\n",
    "\n",
    "def getSBD(sbd):\n",
    "    if (sbd < 10):\n",
    "        return f\"02000{sbd}\"\n",
    "    elif (sbd < 100):\n",
    "        return f\"0200{sbd}\"\n",
    "    elif (sbd < 1000):\n",
    "        return f\"020{sbd}\"\n",
    "    else:\n",
    "        return f\"02{sbd}\"\n",
    "\n",
    "\n",
    "chrome_options = Options()\n",
    "chrome_options.add_argument(\"--incognito\")\n",
    "chrome_options.add_argument(\"--window-size=1920x1080\")\n",
    "driver = webdriver.Chrome(options=chrome_options)\n",
    "url = \"http://bacninh.edu.vn/diem-thi-2022\"\n",
    "\n",
    "header = ['Số báo danh', 'Họ và tên', 'Ngày sinh', 'Trường', 'Điểm Khuyến khích', 'Ngữ Văn', 'Tiếng Anh', 'Toán Tự Luận',\n",
    "          'Toán Trắc Nghiệm', 'Tổng toán', 'Môn Chuyên', 'Tổng Chuyên', 'Tổng đại trà']\n",
    "employee_file = open('diem-thi.csv', mode='w',\n",
    "                     encoding='utf-8-sig', newline='')\n",
    "employee_writer = csv.writer(employee_file)\n",
    "employee_writer.writerow(header)\n",
    "\n",
    "driver.get(url)\n",
    "time.sleep(1)\n",
    "\n",
    "for i in range(876):\n",
    "    sbd_field = driver.find_element(By.CSS_SELECTOR, \n",
    "        \"#searchForm15 > input.search_init.text_filter.form-control.wp-100\")\n",
    "    sbd_field.send_keys(getSBD(i + 1))\n",
    "    submit_button = driver.find_element(By.CSS_SELECTOR, '#searchForm15 > button')\n",
    "    submit_button.click()\n",
    "    row = []\n",
    "    for index in range(13):\n",
    "        sbd = driver.find_element(By.CSS_SELECTOR, \n",
    "            f'#module1015 > div.cont-dataset-detail > div.table-responsive > table > tbody > tr > td:nth-child({index + 1})')\n",
    "        try:\n",
    "            row.append(sbd.text)\n",
    "        except:\n",
    "            sbd = driver.find_element(By.CSS_SELECTOR, \n",
    "                f'#module1015 > div.cont-dataset-detail > div.table-responsive > table > tbody > tr > td:nth-child({index + 1})')\n",
    "            try:\n",
    "                print(f\"Try again at {getSBD(i + 1)} with field {index + 1}\")\n",
    "                row.append(sbd.text)\n",
    "            except:\n",
    "                row.append(\"\")\n",
    "                print(f\"error at {getSBD(i + 1)} with field {index + 1}\")\n",
    "    employee_writer.writerow(row)\n",
    "\n",
    "    sbd_field.clear()\n",
    "employee_file.close()\n"
   ]
  },
  {
   "cell_type": "code",
   "execution_count": 106,
   "metadata": {},
   "outputs": [
    {
     "name": "stdout",
     "output_type": "stream",
     "text": [
      "Số người trên 40.1 (điểm thường) : 252\n"
     ]
    },
    {
     "data": {
      "image/png": "[encoded data removed]",
      "text/plain": [
       "<Figure size 432x288 with 1 Axes>"
      ]
     },
     "metadata": {
      "needs_background": "light"
     },
     "output_type": "display_data"
    }
   ],
   "source": [
    "import pandas as pd\n",
    "import matplotlib.pyplot as plt\n",
    "import numpy as np\n",
    "import math\n",
    "\n",
    "\n",
    "def computeTicks (x, step = 5):\n",
    "    \"\"\"\n",
    "    Computes domain with given step encompassing series x\n",
    "    @ params\n",
    "    x    - Required - A list-like object of integers or floats\n",
    "    step - Optional - Tick frequency\n",
    "    \"\"\"\n",
    "    xMax, xMin = math.ceil(max(x)), math.floor(min(x))\n",
    "    dMax, dMin = xMax + abs((xMax % step) - step) + (step if (xMax % step != 0) else 0), xMin - abs((xMin % step))\n",
    "    return range(dMin, dMax, step)\n",
    "\n",
    "\n",
    "dataframe = pd.read_csv(\"diem-thi.csv\")\n",
    "dataframe = dataframe.sort_values(\"Tổng đại trà\")\n",
    "tdt = dataframe.get(\"Tổng đại trà\")\n",
    "tdt = list(filter(lambda x: (x != '' and x != '.'), tdt))\n",
    "y = [float(x) for x in tdt]\n",
    "x = np.arange(0, len(y))\n",
    "    \n",
    "plt.plot(x, y)\n",
    "\n",
    "plt.show()\n",
    "\n",
    "print(f\"Số người trên 40.1 (điểm thường) : {len([1 for i in y if i > 40.1])}\")"
   ]
  },
  {
   "cell_type": "code",
   "execution_count": 105,
   "metadata": {},
   "outputs": [
    {
     "data": {
      "image/png": "[encoded data removed]",
      "text/plain": [
       "<Figure size 432x288 with 1 Axes>"
      ]
     },
     "metadata": {
      "needs_background": "light"
     },
     "output_type": "display_data"
    },
    {
     "name": "stdout",
     "output_type": "stream",
     "text": [
      "Số người trên 34.3 điểm chuyên : 185\n"
     ]
    }
   ],
   "source": [
    "dataframe = dataframe.sort_values(\"Tổng Chuyên\")\n",
    "tdt = dataframe.get(\"Tổng Chuyên\")\n",
    "tdt = list(filter(lambda x: (x != '' and x != '.'), tdt))\n",
    "y = [float(x) for x in tdt]\n",
    "x = np.arange(0, len(y))\n",
    "plt.plot(x, y)\n",
    "plt.show() \n",
    "print(f\"Số người trên 34.3 điểm chuyên : {len([1 for i in y if i > 34.3])}\")"
   ]
  },
  {
   "cell_type": "code",
   "execution_count": null,
   "metadata": {},
   "outputs": [],
   "source": []
  }
 ],
 "metadata": {
  "kernelspec": {
   "display_name": "Python 3.10.4 64-bit ('3.10.4')",
   "language": "python",
   "name": "python3"
  },
  "language_info": {
   "codemirror_mode": {
    "name": "ipython",
    "version": 3
   },
   "file_extension": ".py",
   "mimetype": "text/x-python",
   "name": "python",
   "nbconvert_exporter": "python",
   "pygments_lexer": "ipython3",
   "version": "3.10.4"
  },
  "orig_nbformat": 4,
  "vscode": {
   "interpreter": {
    "hash": "521bc9d0543e95287543db116ec9f5e82ad2aafde53aaf9c423a81f27dff6184"
   }
  }
 },
 "nbformat": 4,
 "nbformat_minor": 2
}
