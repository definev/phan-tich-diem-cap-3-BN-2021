{
 "cells": [
  {
   "cell_type": "code",
   "execution_count": 1,
   "metadata": {},
   "outputs": [
    {
     "name": "stdout",
     "output_type": "stream",
     "text": [
      "error at 020801 with field 1\n",
      "error at 020863 with field 13\n",
      "error at 030409 with field 3\n",
      "error at 040451 with field 11\n",
      "error at 050439 with field 13\n",
      "error at 090201 with field 12\n",
      "error at 090236 with field 5\n",
      "error at 090375 with field 3\n",
      "error at 120670 with field 8\n",
      "error at 140786 with field 6\n",
      "error at 190435 with field 6\n",
      "error at 200630 with field 5\n"
     ]
    }
   ],
   "source": [
    "import csv\n",
    "from selenium import webdriver\n",
    "from selenium.webdriver.chrome.options import Options\n",
    "from selenium.webdriver.common.by import By\n",
    "import time\n",
    "\n",
    "huyen = [f\"0{x}\" if x < 10 else f\"{x}\" for x in range(2, 24)]\n",
    "sbd_list = [876, 499, 845, 456, 333, 813, 806, 785, 734, 827, 870, 1006, 841, 604, 319, 772, 734, 634, 651, 647, 787, 500]\n",
    "\n",
    "def getSBD(huyen, sbd):\n",
    "    if (sbd < 10):\n",
    "        return f\"{huyen}000{sbd}\"\n",
    "    elif (sbd < 100):\n",
    "        return f\"{huyen}00{sbd}\"\n",
    "    elif (sbd < 1000):\n",
    "        return f\"{huyen}0{sbd}\"\n",
    "    else:\n",
    "        return f\"{huyen}{sbd}\"\n",
    "\n",
    "\n",
    "chrome_options = Options()\n",
    "chrome_options.add_argument(\"--incognito\")\n",
    "chrome_options.add_argument(\"--window-size=1920x1080\")\n",
    "driver = webdriver.Chrome(options=chrome_options)\n",
    "url = \"http://bacninh.edu.vn/diem-thi-2022\"\n",
    "\n",
    "header = ['Số báo danh', 'Họ và tên', 'Ngày sinh', 'Trường', 'Điểm Khuyến khích', 'Ngữ Văn', 'Tiếng Anh', 'Toán Tự Luận',\n",
    "          'Toán Trắc Nghiệm', 'Tổng toán', 'Môn Chuyên', 'Tổng Chuyên', 'Tổng đại trà']\n",
    "employee_file = open('diem-thi.csv', mode='w',\n",
    "                     encoding='utf-8-sig', newline='')\n",
    "employee_writer = csv.writer(employee_file)\n",
    "employee_writer.writerow(header)\n",
    "\n",
    "driver.get(url)\n",
    "time.sleep(2)\n",
    "\n",
    "for x in range(0, 22):\n",
    "    for i in range(sbd_list[x]):\n",
    "        sbd_field = driver.find_element(\n",
    "            By.CSS_SELECTOR, \n",
    "            \"#searchForm15 > input.search_init.text_filter.form-control.wp-100\")\n",
    "        sbd_field.send_keys(getSBD( huyen[x], i + 1))\n",
    "        driver.find_element(By.CSS_SELECTOR, '#searchForm15 > button').click()\n",
    "        row = []\n",
    "        for index in range(13):\n",
    "            try:\n",
    "                sbd = driver.find_element(\n",
    "                    By.CSS_SELECTOR, \n",
    "                    f'#module1015 > div.cont-dataset-detail > div.table-responsive > table > tbody > tr > td:nth-child({index + 1})')\n",
    "                row.append(sbd.text)\n",
    "            except:\n",
    "                try:\n",
    "                    sbd = driver.find_element(\n",
    "                       By.CSS_SELECTOR, \n",
    "                       f'#module1015 > div.cont-dataset-detail > div.table-responsive > table > tbody > tr > td:nth-child({index + 1})')\n",
    "                    row.append(sbd.text)\n",
    "                except: \n",
    "                    row.append(\"\")\n",
    "                    print(f\"error at {getSBD(huyen[x], i + 1)} with field {index + 1}\")\n",
    "        employee_writer.writerow(row)\n",
    "        sbd_field.clear()\n",
    "\n",
    "employee_file.close()\n"
   ]
  },
  {
   "cell_type": "code",
   "execution_count": 11,
   "metadata": {},
   "outputs": [
    {
     "data": {
      "image/png": "[encoded data removed]",
      "text/plain": [
       "<Figure size 432x288 with 1 Axes>"
      ]
     },
     "metadata": {
      "needs_background": "light"
     },
     "output_type": "display_data"
    },
    {
     "name": "stdout",
     "output_type": "stream",
     "text": [
      "Số người trên 40.1 (điểm thường) : 215\n"
     ]
    }
   ],
   "source": [
    "import pandas as pd\n",
    "import matplotlib.pyplot as plt\n",
    "import numpy as np\n",
    "import math\n",
    "\n",
    "\n",
    "dataframe = pd.read_csv(\"diem-thi.csv\")\n",
    "dataframe = dataframe.sort_values(\"Tổng đại trà\")\n",
    "dataframe = dataframe[dataframe['Trường'] == 'THPT HÀN THUYÊN']\n",
    "tdt = dataframe.get(\"Tổng đại trà\")\n",
    "tdt = list(filter(lambda x: (x != '' and x != '.'), tdt))\n",
    "y = [float(x) for x in tdt]\n",
    "x = np.arange(0, len(y))\n",
    "    \n",
    "plt.plot(x, y)\n",
    "\n",
    "plt.show()\n",
    "\n",
    "print(f\"Số người trên 40.1 (điểm thường) : {len([1 for i in y if i > 40.1])}\")"
   ]
  },
  {
   "cell_type": "code",
   "execution_count": 10,
   "metadata": {},
   "outputs": [
    {
     "data": {
      "image/png": "[encoded data removed]",
      "text/plain": [
       "<Figure size 432x288 with 1 Axes>"
      ]
     },
     "metadata": {
      "needs_background": "light"
     },
     "output_type": "display_data"
    },
    {
     "name": "stdout",
     "output_type": "stream",
     "text": [
      "Số người trên 34.3 điểm chuyên : 590\n"
     ]
    }
   ],
   "source": [
    "dataframe = pd.read_csv(\"diem-thi.csv\")\n",
    "dataframe = dataframe.sort_values(\"Tổng Chuyên\")\n",
    "tdt = dataframe.get(\"Tổng Chuyên\")\n",
    "tdt = list(filter(lambda x: (x != '' and x != '.'), tdt))\n",
    "y = [float(x) for x in tdt]\n",
    "x = np.arange(0, len(y))\n",
    "plt.plot(x, y)\n",
    "plt.show() \n",
    "print(f\"Số người trên 34.3 điểm chuyên : {len([1 for i in y if i > 34.3])}\")"
   ]
  },
  {
   "cell_type": "code",
   "execution_count": null,
   "metadata": {},
   "outputs": [],
   "source": []
  }
 ],
 "metadata": {
  "kernelspec": {
   "display_name": "Python 3.10.4 64-bit ('3.10.4')",
   "language": "python",
   "name": "python3"
  },
  "language_info": {
   "codemirror_mode": {
    "name": "ipython",
    "version": 3
   },
   "file_extension": ".py",
   "mimetype": "text/x-python",
   "name": "python",
   "nbconvert_exporter": "python",
   "pygments_lexer": "ipython3",
   "version": "3.10.4"
  },
  "orig_nbformat": 4,
  "vscode": {
   "interpreter": {
    "hash": "521bc9d0543e95287543db116ec9f5e82ad2aafde53aaf9c423a81f27dff6184"
   }
  }
 },
 "nbformat": 4,
 "nbformat_minor": 2
}
